{
 "cells": [
  {
   "cell_type": "markdown",
   "metadata": {},
   "source": [
    "<img src=\"im_note/AC-logo.png\" alt=\"Drawing\" style=\"width: 200px;\"/> <img src=\"im_note/logo.png\" alt=\"Drawing\" style=\"width: 150px;\"/> \n",
    "<img src=\"im_note/logo3.png\" alt=\"Drawing\" style=\"width: 350px;\"/><img src=\"im_note/GCRF.png\" alt=\"Drawing\" style=\"width: 150px;\"/>\n",
    "\n",
    "# Using linear autoregression (AR) to forecast VCI on MODIS data"
   ]
  },
  {
   "cell_type": "code",
   "execution_count": 1,
   "metadata": {},
   "outputs": [],
   "source": [
    "import ARplot\n",
    "import numpy as np\n",
    "import warnings\n",
    "from astropy.table import Table\n",
    "import pandas as pd\n",
    "warnings.filterwarnings('ignore')"
   ]
  },
  {
   "cell_type": "markdown",
   "metadata": {},
   "source": [
    "<img src=\"im_note/livelihood_zones1.png\" alt=\"Drawing\" style=\"width: 650px;\"/> "
   ]
  },
  {
   "cell_type": "markdown",
   "metadata": {},
   "source": [
    "<b>This notebook demonstrates the use of the AR method to forecast the weekly and 3 monthly VCI.</b>\n",
    "\n",
    "<b>This example is for the county livelihood zone intersection.</b>\n",
    "\n",
    "<b>First we load the weekly and 3 monthly VCI data.</b>"
   ]
  },
  {
   "cell_type": "markdown",
   "metadata": {},
   "source": [
    "## Picking a Region to Load"
   ]
  },
  {
   "cell_type": "code",
   "execution_count": 3,
   "metadata": {},
   "outputs": [
    {
     "data": {
      "text/html": [
       "<i>Table length=33</i>\n",
       "<table id=\"table2149153320128-154813\" class=\"table-striped table-bordered table-condensed\">\n",
       "<thead><tr><th>idx</th><th>Region</th><th>Index Number</th></tr></thead>\n",
       "<tr><td>0</td><td>Baringo_Z24</td><td>0</td></tr>\n",
       "<tr><td>1</td><td>Baringo_Z24_RBFP_a</td><td>1</td></tr>\n",
       "<tr><td>2</td><td>Baringo_Z24_RBFP_an_tri</td><td>2</td></tr>\n",
       "<tr><td>3</td><td>Elgeyo_Marakwet_Z24</td><td>3</td></tr>\n",
       "<tr><td>4</td><td>Garsa_Z10</td><td>4</td></tr>\n",
       "<tr><td>5</td><td>Isiolo_Z10</td><td>5</td></tr>\n",
       "<tr><td>6</td><td>Isiolo_Z10_RBFP_an</td><td>6</td></tr>\n",
       "<tr><td>7</td><td>Isiolo_Z10_RBFP_an_trip</td><td>7</td></tr>\n",
       "<tr><td>8</td><td>Isiolo_Z24</td><td>8</td></tr>\n",
       "<tr><td>9</td><td>Isiolo_Z5</td><td>9</td></tr>\n",
       "<tr><td>10</td><td>Isiolo_Z9</td><td>10</td></tr>\n",
       "<tr><td>11</td><td>Kajiado_Z15</td><td>11</td></tr>\n",
       "<tr><td>12</td><td>Kajiado_Z18</td><td>12</td></tr>\n",
       "<tr><td>13</td><td>Laikipia_Z24</td><td>13</td></tr>\n",
       "<tr><td>14</td><td>Mandera_Z7</td><td>14</td></tr>\n",
       "<tr><td>15</td><td>Mandera_Z9</td><td>15</td></tr>\n",
       "<tr><td>16</td><td>Marsabit_Z5</td><td>16</td></tr>\n",
       "<tr><td>17</td><td>Marsabit_Z7</td><td>17</td></tr>\n",
       "<tr><td>18</td><td>Narok_Z15</td><td>18</td></tr>\n",
       "<tr><td>19</td><td>Narok_Z18</td><td>19</td></tr>\n",
       "<tr><td>20</td><td>oldBaringo_Z24</td><td>20</td></tr>\n",
       "<tr><td>21</td><td>oldIsiolo_Z10</td><td>21</td></tr>\n",
       "<tr><td>22</td><td>Samburu_Z24</td><td>22</td></tr>\n",
       "<tr><td>23</td><td>Samburu_Z5</td><td>23</td></tr>\n",
       "<tr><td>24</td><td>TanaRiver_Z11</td><td>24</td></tr>\n",
       "<tr><td>25</td><td>Turkana_Z1</td><td>25</td></tr>\n",
       "<tr><td>26</td><td>Turkana_Z24</td><td>26</td></tr>\n",
       "<tr><td>27</td><td>Turkana_Z3</td><td>27</td></tr>\n",
       "<tr><td>28</td><td>Wajir_Z10</td><td>28</td></tr>\n",
       "<tr><td>29</td><td>Wajir_Z7</td><td>29</td></tr>\n",
       "<tr><td>30</td><td>Wajir_Z9</td><td>30</td></tr>\n",
       "<tr><td>31</td><td>WestPokot_Z1</td><td>31</td></tr>\n",
       "<tr><td>32</td><td>WestPokot_Z24</td><td>32</td></tr>\n",
       "</table><style>table.dataTable {clear: both; width: auto !important; margin: 0 !important;}\n",
       ".dataTables_info, .dataTables_length, .dataTables_filter, .dataTables_paginate{\n",
       "display: inline-block; margin-right: 1em; }\n",
       ".paginate_button { margin-right: 5px; }\n",
       "</style>\n",
       "<script>\n",
       "\n",
       "var astropy_sort_num = function(a, b) {\n",
       "    var a_num = parseFloat(a);\n",
       "    var b_num = parseFloat(b);\n",
       "\n",
       "    if (isNaN(a_num) && isNaN(b_num))\n",
       "        return ((a < b) ? -1 : ((a > b) ? 1 : 0));\n",
       "    else if (!isNaN(a_num) && !isNaN(b_num))\n",
       "        return ((a_num < b_num) ? -1 : ((a_num > b_num) ? 1 : 0));\n",
       "    else\n",
       "        return isNaN(a_num) ? -1 : 1;\n",
       "}\n",
       "\n",
       "require.config({paths: {\n",
       "    datatables: 'https://cdn.datatables.net/1.10.12/js/jquery.dataTables.min'\n",
       "}});\n",
       "require([\"datatables\"], function(){\n",
       "    console.log(\"$('#table2149153320128-154813').dataTable()\");\n",
       "    \n",
       "jQuery.extend( jQuery.fn.dataTableExt.oSort, {\n",
       "    \"optionalnum-asc\": astropy_sort_num,\n",
       "    \"optionalnum-desc\": function (a,b) { return -astropy_sort_num(a, b); }\n",
       "});\n",
       "\n",
       "    $('#table2149153320128-154813').dataTable({\n",
       "        order: [],\n",
       "        pageLength: 50,\n",
       "        lengthMenu: [[10, 25, 50, 100, 500, 1000, -1], [10, 25, 50, 100, 500, 1000, 'All']],\n",
       "        pagingType: \"full_numbers\",\n",
       "        columnDefs: [{targets: [0, 2], type: \"optionalnum\"}]\n",
       "    });\n",
       "});\n",
       "</script>\n"
      ],
      "text/plain": [
       "<IPython.core.display.HTML object>"
      ]
     },
     "execution_count": 3,
     "metadata": {},
     "output_type": "execute_result"
    }
   ],
   "source": [
    "x = pd.read_csv('im_note/Index.csv')\n",
    "x = np.array(x).T\n",
    "a = x[0].tolist()\n",
    "b = x[1].tolist()\n",
    "t = Table([a[:33], b[:33]], names=(\"Region\",'Index Number'))\n",
    "t.show_in_notebook()\n"
   ]
  },
  {
   "cell_type": "code",
   "execution_count": null,
   "metadata": {},
   "outputs": [],
   "source": [
    "region = ARplot.which_region()"
   ]
  },
  {
   "cell_type": "markdown",
   "metadata": {},
   "source": [
    "### The following cell calls a function to load in time, VCI and 3 Month VCI to 3 variables "
   ]
  },
  {
   "cell_type": "code",
   "execution_count": null,
   "metadata": {},
   "outputs": [],
   "source": [
    "# The input here should be an array, with the first row being the dates of observation in the format of days since\n",
    "# 1/1/2000, the second row being weekly VCI, and the third row being 3 month VCI.\n",
    "# T = days since 1/1/2000\n",
    "# VCI1W = weekly VCI, \n",
    "# VCI3M = 3 month VCI\n",
    "\n",
    "T,VCI1W,VCI3M = ARplot.load(region)"
   ]
  },
  {
   "cell_type": "markdown",
   "metadata": {},
   "source": [
    "### The VCI and VCI3M are then plotted against time"
   ]
  },
  {
   "cell_type": "code",
   "execution_count": null,
   "metadata": {},
   "outputs": [],
   "source": [
    "# The function 'plot_vci' takes the time and VCI data and VCI version as inputs and plots the data\n",
    "ARplot.plot_vci(T,VCI1W,'Weekly VCI')                   \n",
    "ARplot.plot_vci(T,VCI3M,'3 month VCI')                   "
   ]
  },
  {
   "cell_type": "markdown",
   "metadata": {},
   "source": [
    "### The solid black lines here show VCI=35, the threshold below which the region is said to be in drought"
   ]
  },
  {
   "cell_type": "markdown",
   "metadata": {},
   "source": [
    "### Next we generate a forecast for the weekly VCI for the next 8 weeks, using the AR modelling method (and a 1 standard deviation uncertainty)"
   ]
  },
  {
   "cell_type": "code",
   "execution_count": null,
   "metadata": {},
   "outputs": [],
   "source": [
    "f,s=ARplot.forecast(VCI1W)"
   ]
  },
  {
   "cell_type": "markdown",
   "metadata": {},
   "source": [
    "#### Testing our code, dotted line is 2 week forecast. See Barrett, Duivenvoorden and Salkapi et al. in prep\n",
    "<img src=\"im_note/NDVI.png\" alt=\"Drawing\" style=\"width: 1150px;\"/> "
   ]
  },
  {
   "cell_type": "markdown",
   "metadata": {},
   "source": [
    "### And we plot this, with error bars showing the plus/minus one standard deviation uncertainty: \n",
    "### The VCI forecast for the next 8 weeks is then shown"
   ]
  },
  {
   "cell_type": "code",
   "execution_count": null,
   "metadata": {},
   "outputs": [],
   "source": [
    "# The function 'plot_vci_fc' takes the time and VCI data, the forecast and uncertainty, \n",
    "# and VCI version, as inputs and makes a plot.\n",
    "\n",
    "ARplot.plot_vci_fc(T,VCI1W,f,s,'Weekly VCI')"
   ]
  },
  {
   "cell_type": "markdown",
   "metadata": {},
   "source": [
    "### We repeat this for the 3 month VCI: "
   ]
  },
  {
   "cell_type": "code",
   "execution_count": null,
   "metadata": {},
   "outputs": [],
   "source": [
    "f,s=ARplot.forecast(VCI3M)\n",
    "ARplot.plot_vci_fc(T,VCI3M,f,s,'3 month VCI')"
   ]
  },
  {
   "cell_type": "markdown",
   "metadata": {},
   "source": [
    "### To demonstrate forecasting for another region, we now show a plot of 3 month VCI for another region:</b>"
   ]
  },
  {
   "cell_type": "code",
   "execution_count": null,
   "metadata": {},
   "outputs": [],
   "source": [
    "region = ARplot.which_region()"
   ]
  },
  {
   "cell_type": "code",
   "execution_count": null,
   "metadata": {
    "scrolled": false
   },
   "outputs": [],
   "source": [
    "T,VCI1W,VCI3M = ARplot.load(region)\n",
    "f,s=ARplot.forecast(VCI3M)\n",
    "ARplot.plot_vci_fc(T,VCI3M,f,s,'3 month VCI')"
   ]
  },
  {
   "cell_type": "code",
   "execution_count": null,
   "metadata": {},
   "outputs": [],
   "source": []
  }
 ],
 "metadata": {
  "kernelspec": {
   "display_name": "Python 3",
   "language": "python",
   "name": "python3"
  },
  "language_info": {
   "codemirror_mode": {
    "name": "ipython",
    "version": 3
   },
   "file_extension": ".py",
   "mimetype": "text/x-python",
   "name": "python",
   "nbconvert_exporter": "python",
   "pygments_lexer": "ipython3",
   "version": "3.6.8"
  }
 },
 "nbformat": 4,
 "nbformat_minor": 2
}
